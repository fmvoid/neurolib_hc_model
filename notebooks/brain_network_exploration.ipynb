{
 "cells": [
  {
   "cell_type": "markdown",
   "metadata": {},
   "source": [
    "# Parameter Space Exploration\n",
    "This PSE is adapted from the neurolib exemple 1.2 - Brain network exploration"
   ]
  },
  {
   "cell_type": "code",
   "execution_count": null,
   "metadata": {},
   "outputs": [],
   "source": [
    "import numpy as np\n",
    "import scipy\n",
    "import neurolib.utils.functions as func\n",
    "import matplotlib.pyplot as plt\n",
    "from neurolib.models.aln import ALNModel\n",
    "\n",
    "# Let's import all the necessary functions for the parameter\n",
    "from neurolib.utils.parameterSpace import ParameterSpace\n",
    "from neurolib.optimize.exploration import BoxSearch\n",
    "\n",
    "# load some utilty functions for explorations\n",
    "import neurolib.utils.pypetUtils as pu\n",
    "import neurolib.utils.paths as paths\n",
    "import neurolib.optimize.exploration.explorationUtils as eu\n",
    "\n",
    "# Some useful functions are provided here\n",
    "import neurolib.utils.functions as func"
   ]
  },
  {
   "cell_type": "markdown",
   "metadata": {},
   "source": [
    "## Set up brain network\n",
    "\n",
    "Here I load the structural data that will build the backbone of the model, the weights and lengts matrices obtained from DTI data.\n",
    "\n",
    "I also set the parameters of the model (I leave it to the default parameters)"
   ]
  },
  {
   "cell_type": "code",
   "execution_count": null,
   "metadata": {},
   "outputs": [],
   "source": [
    "# Load structural connectivity matrices\n",
    "weights_file = \"/Users/fdjim/Desktop/Projects/neurolib/data/sub-0001/sc/0001_1_Counts.csv\"\n",
    "length_file = \"/Users/fdjim/Desktop/Projects/neurolib/data/sub-0001/sc/0001_1_Lengths.csv\" \n",
    "\n",
    "weights = np.loadtxt(weights_file, delimiter=',')\n",
    "length = np.loadtxt(length_file, delimiter=',')\n",
    "\n",
    "model = ALNModel(Cmat = weights, Dmat = length)\n",
    "model.params['duration'] = 1000*30 # ms "
   ]
  },
  {
   "cell_type": "code",
   "execution_count": 81,
   "metadata": {},
   "outputs": [
    {
     "ename": "AttributeError",
     "evalue": "'ALNModel' object has no attribute 'copy'",
     "output_type": "error",
     "traceback": [
      "\u001b[0;31m---------------------------------------------------------------------------\u001b[0m",
      "\u001b[0;31mAttributeError\u001b[0m                            Traceback (most recent call last)",
      "Cell \u001b[0;32mIn[81], line 5\u001b[0m\n\u001b[1;32m      1\u001b[0m \u001b[38;5;66;03m# model.run(chunkwise=True, bold=True)\u001b[39;00m\n\u001b[1;32m      2\u001b[0m \n\u001b[1;32m      3\u001b[0m \u001b[38;5;66;03m# model.run(chunkwise=True, chunksize=60000, bold=True)\u001b[39;00m\n\u001b[0;32m----> 5\u001b[0m model_copy \u001b[38;5;241m=\u001b[39m \u001b[43mmodel\u001b[49m\u001b[38;5;241;43m.\u001b[39;49m\u001b[43mcopy\u001b[49m()\n",
      "\u001b[0;31mAttributeError\u001b[0m: 'ALNModel' object has no attribute 'copy'"
     ]
    }
   ],
   "source": [
    "model.run(chunkwise=True, bold=True)"
   ]
  },
  {
   "cell_type": "markdown",
   "metadata": {},
   "source": [
    "## Run the exploration\n",
    "\n",
    "I will start with an exploration of Global Parameters (parameters taken from source code and from the model's theoretical paper):\n",
    "\n",
    "- Global coupling strength (c_gl): This parameter scales the overall strength of connections between regions. Exploring this is crucial as it can significantly affect the network's dynamics and synchronization properties.\n",
    "- b. Noise amplitude (sigma_ou): This parameter controls the intensity of the Ornstein-Uhlenbeck noise in the model. Varying this can help understand how robust the dynamics are to random fluctuations.\n",
    "- c. Number of incoming excitatory connections per region (Ke_gl): This parameter affects the balance of excitation in the network. Exploring it can provide insights into how the network's behavior changes with different levels of excitatory connectivity.\n",
    "\n"
   ]
  },
  {
   "cell_type": "code",
   "execution_count": 80,
   "metadata": {},
   "outputs": [],
   "source": [
    "model_rates_exc = model['rates_exc']\n",
    "model_rates_inh = model['rates_inh']\n",
    "model_IA = model['IA']\n",
    "model_t = model.t\n",
    "bold = model.BOLD.BOLD\n",
    "bold_t = np.array(bold.shape[1])\n"
   ]
  },
  {
   "cell_type": "code",
   "execution_count": 82,
   "metadata": {},
   "outputs": [
    {
     "name": "stdout",
     "output_type": "stream",
     "text": [
      "Type of model['rates_exc']: <class 'numpy.ndarray'>\n"
     ]
    }
   ],
   "source": [
    "print(\"Type of model['rates_exc']:\", type(bold))"
   ]
  },
  {
   "cell_type": "code",
   "execution_count": 79,
   "metadata": {},
   "outputs": [
    {
     "name": "stdout",
     "output_type": "stream",
     "text": [
      "Shape of model_rates_exc: (96, 20000)\n",
      "Shape of model_rates_inh: (96, 20000)\n",
      "Shape of model_IA: (96, 20000)\n",
      "Shape of bold: (96, 15)\n",
      "Shape of bold_t: 15\n"
     ]
    }
   ],
   "source": [
    "print(\"Shape of model_rates_exc:\", model_rates_exc.shape)\n",
    "print(\"Shape of model_rates_inh:\", model_rates_inh.shape)\n",
    "print(\"Shape of model_IA:\", model_IA.shape)\n",
    "print(\"Shape of bold:\", bold.shape)\n",
    "print(\"Shape of bold_t:\", bold_t)"
   ]
  },
  {
   "cell_type": "code",
   "execution_count": null,
   "metadata": {},
   "outputs": [],
   "source": [
    "model_rates_exc"
   ]
  },
  {
   "cell_type": "code",
   "execution_count": null,
   "metadata": {},
   "outputs": [],
   "source": [
    "import numpy as np\n",
    "\n",
    "# Assuming 'model_rates_exc' is your NumPy array\n",
    "# model_rates_exc = np.array([...])  # Your array initialization here\n",
    "\n",
    "print(\"Array (model_rates_exc):\")\n",
    "print(model_rates_exc)\n",
    "\n",
    "print(\"\\nShape:\", model_rates_exc.shape)\n",
    "print(\"Size:\", model_rates_exc.size)\n",
    "print(\"Data type:\", model_rates_exc.dtype)\n",
    "print(\"Number of dimensions:\", model_rates_exc.ndim)\n",
    "print(\"Item size (in bytes):\", model_rates_exc.itemsize)\n",
    "print(\"Total bytes:\", model_rates_exc.nbytes)\n",
    "\n",
    "# Viewing the first few elements (head)\n",
    "print(\"\\nFirst few elements:\")\n",
    "print(model_rates_exc[:5])\n",
    "\n",
    "# Viewing the last few elements (tail)\n",
    "print(\"\\nLast few elements:\")\n",
    "print(model_rates_exc[-5:])"
   ]
  },
  {
   "cell_type": "code",
   "execution_count": null,
   "metadata": {},
   "outputs": [],
   "source": [
    "print(\"Type of model['rates_exc']:\", type(model['rates_exc']))"
   ]
  }
 ],
 "metadata": {
  "kernelspec": {
   "display_name": ".venv",
   "language": "python",
   "name": "python3"
  },
  "language_info": {
   "codemirror_mode": {
    "name": "ipython",
    "version": 3
   },
   "file_extension": ".py",
   "mimetype": "text/x-python",
   "name": "python",
   "nbconvert_exporter": "python",
   "pygments_lexer": "ipython3",
   "version": "3.8.19"
  }
 },
 "nbformat": 4,
 "nbformat_minor": 2
}
